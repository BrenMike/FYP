{
 "cells": [
  {
   "cell_type": "code",
   "execution_count": 1,
   "id": "8bc090b5",
   "metadata": {
    "executionInfo": {
     "elapsed": 2877,
     "status": "ok",
     "timestamp": 1636967310156,
     "user": {
      "displayName": "espresso double",
      "photoUrl": "https://lh3.googleusercontent.com/a/default-user=s64",
      "userId": "12284788624354514518"
     },
     "user_tz": -480
    },
    "id": "8bc090b5"
   },
   "outputs": [],
   "source": [
    "# Basic Libraries\n",
    "import tensorflow as tf\n",
    "import pandas as pd\n",
    "import numpy as np\n",
    "import scipy.signal\n",
    "\n",
    "pd.plotting.register_matplotlib_converters()\n",
    "import matplotlib.pyplot as plt\n",
    "%matplotlib inline\n",
    "\n",
    "\n",
    "from sklearn.model_selection import train_test_split\n",
    "from sklearn.metrics import classification_report\n",
    "from sklearn.model_selection import GridSearchCV\n"
   ]
  },
  {
   "cell_type": "code",
   "execution_count": 2,
   "id": "c3d3e2f3",
   "metadata": {
    "executionInfo": {
     "elapsed": 583,
     "status": "ok",
     "timestamp": 1636967310737,
     "user": {
      "displayName": "espresso double",
      "photoUrl": "https://lh3.googleusercontent.com/a/default-user=s64",
      "userId": "12284788624354514518"
     },
     "user_tz": -480
    },
    "id": "c3d3e2f3"
   },
   "outputs": [],
   "source": [
    "# Libraries for Classification and building Models\n",
    "import keras\n",
    "from tensorflow.keras.models import Sequential\n",
    "from tensorflow.keras.layers import Conv2D, Flatten, Dense, MaxPool2D, Dropout, BatchNormalization\n",
    "from tensorflow.keras.utils import to_categorical \n",
    "from keras.preprocessing.image import ImageDataGenerator\n",
    "from sklearn.ensemble import RandomForestClassifier\n",
    "from sklearn.svm import SVC"
   ]
  },
  {
   "cell_type": "code",
   "execution_count": 3,
   "id": "90e2a687",
   "metadata": {
    "executionInfo": {
     "elapsed": 1562,
     "status": "ok",
     "timestamp": 1636967312297,
     "user": {
      "displayName": "espresso double",
      "photoUrl": "https://lh3.googleusercontent.com/a/default-user=s64",
      "userId": "12284788624354514518"
     },
     "user_tz": -480
    },
    "id": "90e2a687"
   },
   "outputs": [],
   "source": [
    "# Project Specific Libraries\n",
    "\n",
    "import os\n",
    "import librosa\n",
    "import librosa.display\n",
    "import glob "
   ]
  },
  {
   "cell_type": "markdown",
   "id": "9b788e9b",
   "metadata": {
    "id": "9b788e9b"
   },
   "source": [
    "###  MFCC"
   ]
  },
  {
   "cell_type": "code",
   "execution_count": 4,
   "id": "05f740af",
   "metadata": {
    "colab": {
     "base_uri": "https://localhost:8080/",
     "height": 200
    },
    "executionInfo": {
     "elapsed": 345,
     "status": "ok",
     "timestamp": 1636967313127,
     "user": {
      "displayName": "espresso double",
      "photoUrl": "https://lh3.googleusercontent.com/a/default-user=s64",
      "userId": "12284788624354514518"
     },
     "user_tz": -480
    },
    "id": "05f740af",
    "outputId": "39a767af-982d-4e90-e032-cca02eefcdc1"
   },
   "outputs": [
    {
     "data": {
      "text/html": [
       "<div>\n",
       "<style scoped>\n",
       "    .dataframe tbody tr th:only-of-type {\n",
       "        vertical-align: middle;\n",
       "    }\n",
       "\n",
       "    .dataframe tbody tr th {\n",
       "        vertical-align: top;\n",
       "    }\n",
       "\n",
       "    .dataframe thead th {\n",
       "        text-align: right;\n",
       "    }\n",
       "</style>\n",
       "<table border=\"1\" class=\"dataframe\">\n",
       "  <thead>\n",
       "    <tr style=\"text-align: right;\">\n",
       "      <th></th>\n",
       "      <th>itemid</th>\n",
       "      <th>datasetid</th>\n",
       "      <th>fold</th>\n",
       "      <th>hasbird</th>\n",
       "    </tr>\n",
       "  </thead>\n",
       "  <tbody>\n",
       "    <tr>\n",
       "      <th>0</th>\n",
       "      <td>55.wav</td>\n",
       "      <td>ff1010bird</td>\n",
       "      <td>1</td>\n",
       "      <td>0</td>\n",
       "    </tr>\n",
       "    <tr>\n",
       "      <th>1</th>\n",
       "      <td>87.wav</td>\n",
       "      <td>ff1010bird</td>\n",
       "      <td>1</td>\n",
       "      <td>0</td>\n",
       "    </tr>\n",
       "    <tr>\n",
       "      <th>2</th>\n",
       "      <td>99.wav</td>\n",
       "      <td>ff1010bird</td>\n",
       "      <td>1</td>\n",
       "      <td>0</td>\n",
       "    </tr>\n",
       "    <tr>\n",
       "      <th>3</th>\n",
       "      <td>100.wav</td>\n",
       "      <td>ff1010bird</td>\n",
       "      <td>1</td>\n",
       "      <td>1</td>\n",
       "    </tr>\n",
       "    <tr>\n",
       "      <th>4</th>\n",
       "      <td>104.wav</td>\n",
       "      <td>ff1010bird</td>\n",
       "      <td>1</td>\n",
       "      <td>0</td>\n",
       "    </tr>\n",
       "  </tbody>\n",
       "</table>\n",
       "</div>"
      ],
      "text/plain": [
       "    itemid   datasetid  fold  hasbird\n",
       "0   55.wav  ff1010bird     1        0\n",
       "1   87.wav  ff1010bird     1        0\n",
       "2   99.wav  ff1010bird     1        0\n",
       "3  100.wav  ff1010bird     1        1\n",
       "4  104.wav  ff1010bird     1        0"
      ]
     },
     "execution_count": 4,
     "metadata": {},
     "output_type": "execute_result"
    }
   ],
   "source": [
    "# Extracting MFCC's For every audio file\n",
    "import pandas as pd\n",
    "import os\n",
    "import librosa\n",
    "\n",
    "audio_dataset_path='audio/'\n",
    "metadata=pd.read_csv('metadata/ff1010bird_metadata_2018.csv')\n",
    "metadata.head()"
   ]
  },
  {
   "cell_type": "code",
   "execution_count": 5,
   "id": "dc5f2a95",
   "metadata": {
    "executionInfo": {
     "elapsed": 8,
     "status": "ok",
     "timestamp": 1636967313128,
     "user": {
      "displayName": "espresso double",
      "photoUrl": "https://lh3.googleusercontent.com/a/default-user=s64",
      "userId": "12284788624354514518"
     },
     "user_tz": -480
    },
    "id": "dc5f2a95"
   },
   "outputs": [],
   "source": [
    "N_MELS = 40\n",
    "FFT_POINTS = 882 * 2\n",
    "SR = 44100\n",
    "HAMMING_SIGNAL = scipy.signal.hamming\n",
    "FRAMES = 500\n"
   ]
  },
  {
   "cell_type": "code",
   "execution_count": 6,
   "id": "a5e05e4c",
   "metadata": {
    "executionInfo": {
     "elapsed": 8,
     "status": "ok",
     "timestamp": 1636967313128,
     "user": {
      "displayName": "espresso double",
      "photoUrl": "https://lh3.googleusercontent.com/a/default-user=s64",
      "userId": "12284788624354514518"
     },
     "user_tz": -480
    },
    "id": "a5e05e4c"
   },
   "outputs": [],
   "source": [
    "# creating a function that extracts and lable the file \n",
    "# normalising the audio \n",
    "\n",
    "def feature_extract(audio_dataset_path, data_fold, data_id, data_labels):\n",
    "    feature_file = []\n",
    "    label_file = []\n",
    "\n",
    "    for i in range(len(data_id)):\n",
    "        #file_name = os.path.join(os.path.abspath(audio_dataset_path), 'fold'+str(row[\"fold\"])+'/',str(row[\"itemid\"]))\n",
    "        file_name = audio_dataset_path + 'fold' + str(data_fold[i]) + '/' + str(data_id[i])\n",
    "        [wave, _] = librosa.core.load(file_name ,sr=SR)  # read wav file (fs = 44.1 kHz)\n",
    "        wave = librosa.stft(wave, FFT_POINTS, win_length=FFT_POINTS,\n",
    "                            window=HAMMING_SIGNAL)  # STFT computation (fft_points = 882*2, overlap= 50%, analysis_window=40ms)\n",
    "        wave = np.abs(wave) ** 2\n",
    "        spectrogram = librosa.feature.melspectrogram(S=wave, n_mels=N_MELS)  # mel bands (40)\n",
    "        spectrogram = librosa.power_to_db(spectrogram, ref=np.max)\n",
    "        norm_spectrogram = spectrogram - np.amin(spectrogram)\n",
    "        norm_spectrogram = norm_spectrogram / float(np.amax(norm_spectrogram))\n",
    "\n",
    "        if int(norm_spectrogram.shape[1]) < FRAMES:  # 10 sec samples gives 500 frames\n",
    "            z_pad = np.zeros((N_MELS, FRAMES))\n",
    "            z_pad[:, :-(FRAMES - norm_spectrogram.shape[1])] = norm_spectrogram\n",
    "            feature_file.append(z_pad)\n",
    "        else:\n",
    "            img = norm_spectrogram[:, np.r_[0:FRAMES]]  # final_shape = 40*500\n",
    "            feature_file.append(img)\n",
    "\n",
    "        if len(data_labels) > 0:\n",
    "            label_file.append(data_labels[i])\n",
    "\n",
    "    feature_file = np.array(feature_file)\n",
    "    feature_file = np.reshape(feature_file, (len(data_id), N_MELS, FRAMES, 1))\n",
    "\n",
    "    if len(data_labels) > 0:  # In case of training data\n",
    "        label_file = np.array(label_file)\n",
    "        return feature_file, label_file\n",
    "    else:  # In case of testing data\n",
    "        return feature_file"
   ]
  },
  {
   "cell_type": "code",
   "execution_count": 7,
   "id": "02cfd896",
   "metadata": {
    "executionInfo": {
     "elapsed": 40963,
     "status": "ok",
     "timestamp": 1636967354083,
     "user": {
      "displayName": "espresso double",
      "photoUrl": "https://lh3.googleusercontent.com/a/default-user=s64",
      "userId": "12284788624354514518"
     },
     "user_tz": -480
    },
    "id": "02cfd896"
   },
   "outputs": [],
   "source": [
    "#load the extracted feautures\n",
    "X= np.load('features_data_X.npy')\n",
    "y= np.load('features_data_y.npy')"
   ]
  },
  {
   "cell_type": "code",
   "execution_count": 8,
   "id": "61726f9c",
   "metadata": {
    "colab": {
     "base_uri": "https://localhost:8080/"
    },
    "executionInfo": {
     "elapsed": 13,
     "status": "ok",
     "timestamp": 1636967354083,
     "user": {
      "displayName": "espresso double",
      "photoUrl": "https://lh3.googleusercontent.com/a/default-user=s64",
      "userId": "12284788624354514518"
     },
     "user_tz": -480
    },
    "id": "61726f9c",
    "outputId": "62fc3979-d92a-4f23-facc-0bd65a698f5c"
   },
   "outputs": [
    {
     "data": {
      "text/plain": [
       "(15690, 40, 500, 1)"
      ]
     },
     "execution_count": 8,
     "metadata": {},
     "output_type": "execute_result"
    }
   ],
   "source": [
    "X.shape"
   ]
  },
  {
   "cell_type": "code",
   "execution_count": 9,
   "id": "c82d5267",
   "metadata": {
    "executionInfo": {
     "elapsed": 11,
     "status": "ok",
     "timestamp": 1636967354084,
     "user": {
      "displayName": "espresso double",
      "photoUrl": "https://lh3.googleusercontent.com/a/default-user=s64",
      "userId": "12284788624354514518"
     },
     "user_tz": -480
    },
    "id": "c82d5267"
   },
   "outputs": [],
   "source": [
    "from tensorflow.keras.utils import to_categorical\n",
    "from sklearn.preprocessing import LabelEncoder\n",
    "labelencoder=LabelEncoder()\n",
    "y=to_categorical(labelencoder.fit_transform(y))"
   ]
  },
  {
   "cell_type": "code",
   "execution_count": 10,
   "id": "70f72fbe",
   "metadata": {
    "colab": {
     "base_uri": "https://localhost:8080/"
    },
    "executionInfo": {
     "elapsed": 11,
     "status": "ok",
     "timestamp": 1636967354084,
     "user": {
      "displayName": "espresso double",
      "photoUrl": "https://lh3.googleusercontent.com/a/default-user=s64",
      "userId": "12284788624354514518"
     },
     "user_tz": -480
    },
    "id": "70f72fbe",
    "outputId": "a9096f29-7469-43d8-c420-35ed623ec6aa"
   },
   "outputs": [
    {
     "data": {
      "text/plain": [
       "(15690, 2)"
      ]
     },
     "execution_count": 10,
     "metadata": {},
     "output_type": "execute_result"
    }
   ],
   "source": [
    "y.shape"
   ]
  },
  {
   "cell_type": "markdown",
   "id": "19bc5c1f",
   "metadata": {
    "id": "19bc5c1f"
   },
   "source": [
    "### Splitting dataset "
   ]
  },
  {
   "cell_type": "code",
   "execution_count": 11,
   "id": "cb573da2",
   "metadata": {
    "executionInfo": {
     "elapsed": 2959,
     "status": "ok",
     "timestamp": 1636967357034,
     "user": {
      "displayName": "espresso double",
      "photoUrl": "https://lh3.googleusercontent.com/a/default-user=s64",
      "userId": "12284788624354514518"
     },
     "user_tz": -480
    },
    "id": "cb573da2"
   },
   "outputs": [],
   "source": [
    "#splitting the dataset to training and validation\n",
    "X_trainset, X_val, y_trainset, y_val = train_test_split(X, y, random_state = 1)"
   ]
  },
  {
   "cell_type": "code",
   "execution_count": 12,
   "id": "4e378ffb",
   "metadata": {
    "colab": {
     "base_uri": "https://localhost:8080/"
    },
    "executionInfo": {
     "elapsed": 8,
     "status": "ok",
     "timestamp": 1636967357035,
     "user": {
      "displayName": "espresso double",
      "photoUrl": "https://lh3.googleusercontent.com/a/default-user=s64",
      "userId": "12284788624354514518"
     },
     "user_tz": -480
    },
    "id": "4e378ffb",
    "outputId": "f97e043f-f43b-49d0-8279-cc1018b8ea1e"
   },
   "outputs": [
    {
     "data": {
      "text/plain": [
       "(11767, 40, 500, 1)"
      ]
     },
     "execution_count": 12,
     "metadata": {},
     "output_type": "execute_result"
    }
   ],
   "source": [
    "X_trainset.shape"
   ]
  },
  {
   "cell_type": "code",
   "execution_count": 13,
   "id": "86e0729b",
   "metadata": {
    "colab": {
     "base_uri": "https://localhost:8080/"
    },
    "executionInfo": {
     "elapsed": 5,
     "status": "ok",
     "timestamp": 1636967357035,
     "user": {
      "displayName": "espresso double",
      "photoUrl": "https://lh3.googleusercontent.com/a/default-user=s64",
      "userId": "12284788624354514518"
     },
     "user_tz": -480
    },
    "id": "86e0729b",
    "outputId": "7509275f-d787-45b1-f84d-9934f9290102"
   },
   "outputs": [
    {
     "data": {
      "text/plain": [
       "(3923, 40, 500, 1)"
      ]
     },
     "execution_count": 13,
     "metadata": {},
     "output_type": "execute_result"
    }
   ],
   "source": [
    "X_val.shape"
   ]
  },
  {
   "cell_type": "code",
   "execution_count": 14,
   "id": "605fdd0f",
   "metadata": {
    "executionInfo": {
     "elapsed": 522,
     "status": "ok",
     "timestamp": 1636967357554,
     "user": {
      "displayName": "espresso double",
      "photoUrl": "https://lh3.googleusercontent.com/a/default-user=s64",
      "userId": "12284788624354514518"
     },
     "user_tz": -480
    },
    "id": "605fdd0f"
   },
   "outputs": [],
   "source": [
    "# splitting the training dataset to obtain some test set for the testing phase\n",
    "X_train, X_test, y_train, y_test = train_test_split(X_trainset, y_trainset, random_state = 1)"
   ]
  },
  {
   "cell_type": "code",
   "execution_count": 15,
   "id": "16fd5340",
   "metadata": {
    "colab": {
     "base_uri": "https://localhost:8080/"
    },
    "executionInfo": {
     "elapsed": 7,
     "status": "ok",
     "timestamp": 1636967357555,
     "user": {
      "displayName": "espresso double",
      "photoUrl": "https://lh3.googleusercontent.com/a/default-user=s64",
      "userId": "12284788624354514518"
     },
     "user_tz": -480
    },
    "id": "16fd5340",
    "outputId": "d2a8c913-c0c7-4126-e774-c8cf10a5209f"
   },
   "outputs": [
    {
     "data": {
      "text/plain": [
       "(8825, 40, 500, 1)"
      ]
     },
     "execution_count": 15,
     "metadata": {},
     "output_type": "execute_result"
    }
   ],
   "source": [
    "X_train.shape"
   ]
  },
  {
   "cell_type": "code",
   "execution_count": 16,
   "id": "1866f80a",
   "metadata": {
    "colab": {
     "base_uri": "https://localhost:8080/"
    },
    "executionInfo": {
     "elapsed": 5,
     "status": "ok",
     "timestamp": 1636967357555,
     "user": {
      "displayName": "espresso double",
      "photoUrl": "https://lh3.googleusercontent.com/a/default-user=s64",
      "userId": "12284788624354514518"
     },
     "user_tz": -480
    },
    "id": "1866f80a",
    "outputId": "319f2515-2281-4f42-e658-493a41a03425"
   },
   "outputs": [
    {
     "data": {
      "text/plain": [
       "(2942, 40, 500, 1)"
      ]
     },
     "execution_count": 16,
     "metadata": {},
     "output_type": "execute_result"
    }
   ],
   "source": [
    "X_test.shape"
   ]
  },
  {
   "cell_type": "code",
   "execution_count": 17,
   "id": "0904e711",
   "metadata": {
    "colab": {
     "base_uri": "https://localhost:8080/"
    },
    "executionInfo": {
     "elapsed": 4,
     "status": "ok",
     "timestamp": 1636967357555,
     "user": {
      "displayName": "espresso double",
      "photoUrl": "https://lh3.googleusercontent.com/a/default-user=s64",
      "userId": "12284788624354514518"
     },
     "user_tz": -480
    },
    "id": "0904e711",
    "outputId": "badf59e9-c22e-4e51-b508-ab66bba231e4"
   },
   "outputs": [
    {
     "data": {
      "text/plain": [
       "(3923, 40, 500, 1)"
      ]
     },
     "execution_count": 17,
     "metadata": {},
     "output_type": "execute_result"
    }
   ],
   "source": [
    "X_val.shape"
   ]
  },
  {
   "cell_type": "code",
   "execution_count": 18,
   "id": "8110907e",
   "metadata": {
    "executionInfo": {
     "elapsed": 3,
     "status": "ok",
     "timestamp": 1636967357555,
     "user": {
      "displayName": "espresso double",
      "photoUrl": "https://lh3.googleusercontent.com/a/default-user=s64",
      "userId": "12284788624354514518"
     },
     "user_tz": -480
    },
    "id": "8110907e"
   },
   "outputs": [],
   "source": [
    "input_dim = (40, 500, 1)"
   ]
  },
  {
   "cell_type": "markdown",
   "id": "a0f7563c",
   "metadata": {
    "id": "a0f7563c"
   },
   "source": [
    "### CNN Model"
   ]
  },
  {
   "cell_type": "code",
   "execution_count": 19,
   "id": "5c8f9bff",
   "metadata": {
    "executionInfo": {
     "elapsed": 6047,
     "status": "ok",
     "timestamp": 1636967363599,
     "user": {
      "displayName": "espresso double",
      "photoUrl": "https://lh3.googleusercontent.com/a/default-user=s64",
      "userId": "12284788624354514518"
     },
     "user_tz": -480
    },
    "id": "5c8f9bff"
   },
   "outputs": [],
   "source": [
    "model = Sequential()\n",
    "model.add(Conv2D(48, kernel_size=3, activation='relu', input_shape=input_dim))\n",
    "model.add(BatchNormalization())\n",
    "model.add(Dropout(0.4))\n",
    "model.add(Conv2D(48, kernel_size=5, strides=2, padding='same', activation='relu'))\n",
    "model.add(BatchNormalization())\n",
    "model.add(Dropout(0.4))\n",
    "\n",
    "model.add(Conv2D(96, kernel_size=3, activation='relu'))\n",
    "model.add(BatchNormalization())\n",
    "model.add(Dropout(0.4))\n",
    "model.add(Conv2D(96, kernel_size=5, strides=2, padding='same', activation='relu'))\n",
    "model.add(BatchNormalization())\n",
    "model.add(Dropout(0.4))\n",
    "model.add(Flatten())\n",
    "\n",
    "model.add(Dense(384, activation='relu'))\n",
    "model.add(BatchNormalization())\n",
    "model.add(Dropout(0.4))\n",
    "model.add(Dense(2, activation='sigmoid'))"
   ]
  },
  {
   "cell_type": "code",
   "execution_count": 20,
   "id": "a112ba86",
   "metadata": {
    "colab": {
     "base_uri": "https://localhost:8080/"
    },
    "executionInfo": {
     "elapsed": 292,
     "status": "ok",
     "timestamp": 1636967389496,
     "user": {
      "displayName": "espresso double",
      "photoUrl": "https://lh3.googleusercontent.com/a/default-user=s64",
      "userId": "12284788624354514518"
     },
     "user_tz": -480
    },
    "id": "a112ba86",
    "outputId": "ab2f269a-5712-44db-cec3-c3cb4f000d2c"
   },
   "outputs": [
    {
     "name": "stderr",
     "output_type": "stream",
     "text": [
      "C:\\Users\\user\\AppData\\Roaming\\Python\\Python38\\site-packages\\keras\\optimizer_v2\\optimizer_v2.py:355: UserWarning: The `lr` argument is deprecated, use `learning_rate` instead.\n",
      "  warnings.warn(\n"
     ]
    }
   ],
   "source": [
    "optimizer = tf.keras.optimizers.Adam(lr=3e-4)\n",
    "model.compile(optimizer = optimizer, loss = 'categorical_crossentropy', metrics = ['accuracy'])"
   ]
  },
  {
   "cell_type": "code",
   "execution_count": 21,
   "id": "eab3b818",
   "metadata": {},
   "outputs": [],
   "source": [
    "model.load_weights('saved_models/audio_classification2.hdf5')"
   ]
  },
  {
   "cell_type": "code",
   "execution_count": 22,
   "id": "d951efe2",
   "metadata": {},
   "outputs": [
    {
     "name": "stdout",
     "output_type": "stream",
     "text": [
      "1/1 - 0s\n"
     ]
    },
    {
     "data": {
      "text/plain": [
       "array([[0.7232486 , 0.39200416],\n",
       "       [0.40062755, 0.50363076],\n",
       "       [0.14526865, 0.8324777 ],\n",
       "       [0.78451556, 0.55488473],\n",
       "       [0.998427  , 0.79706776],\n",
       "       [0.9064108 , 0.08116361],\n",
       "       [0.07993132, 0.67066914],\n",
       "       [0.6509493 , 0.10312608],\n",
       "       [0.12525183, 0.793732  ],\n",
       "       [0.27268595, 0.70655274]], dtype=float32)"
      ]
     },
     "execution_count": 22,
     "metadata": {},
     "output_type": "execute_result"
    }
   ],
   "source": [
    "model.predict(X_test[:10], verbose=2)"
   ]
  }
 ],
 "metadata": {
  "accelerator": "GPU",
  "colab": {
   "name": "CNN model 2.ipynb",
   "provenance": []
  },
  "kernelspec": {
   "display_name": "Python 3",
   "language": "python",
   "name": "python3"
  },
  "language_info": {
   "codemirror_mode": {
    "name": "ipython",
    "version": 3
   },
   "file_extension": ".py",
   "mimetype": "text/x-python",
   "name": "python",
   "nbconvert_exporter": "python",
   "pygments_lexer": "ipython3",
   "version": "3.8.8"
  }
 },
 "nbformat": 4,
 "nbformat_minor": 5
}
