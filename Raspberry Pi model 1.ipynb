{
 "cells": [
  {
   "cell_type": "code",
   "execution_count": 1,
   "id": "8bc090b5",
   "metadata": {
    "executionInfo": {
     "elapsed": 2506,
     "status": "ok",
     "timestamp": 1636712253269,
     "user": {
      "displayName": "Brendan Mike",
      "photoUrl": "https://lh3.googleusercontent.com/a/default-user=s64",
      "userId": "11749813885444586959"
     },
     "user_tz": -480
    },
    "id": "8bc090b5"
   },
   "outputs": [],
   "source": [
    "# Basic Libraries\n",
    "import tensorflow as tf\n",
    "import pandas as pd\n",
    "import numpy as np\n",
    "import scipy.signal\n",
    "\n",
    "pd.plotting.register_matplotlib_converters()\n",
    "import matplotlib.pyplot as plt\n",
    "%matplotlib inline\n",
    "\n",
    "\n",
    "from sklearn.model_selection import train_test_split\n",
    "from sklearn.metrics import classification_report\n",
    "from sklearn.model_selection import GridSearchCV\n"
   ]
  },
  {
   "cell_type": "code",
   "execution_count": 2,
   "id": "c3d3e2f3",
   "metadata": {
    "executionInfo": {
     "elapsed": 1470,
     "status": "ok",
     "timestamp": 1636712254736,
     "user": {
      "displayName": "Brendan Mike",
      "photoUrl": "https://lh3.googleusercontent.com/a/default-user=s64",
      "userId": "11749813885444586959"
     },
     "user_tz": -480
    },
    "id": "c3d3e2f3"
   },
   "outputs": [],
   "source": [
    "# Libraries for Classification and building Models\n",
    "import keras\n",
    "from tensorflow.keras.models import Sequential\n",
    "from tensorflow.keras.layers import Conv2D, Flatten, Dense, MaxPool2D, Dropout, BatchNormalization\n",
    "from tensorflow.keras.utils import to_categorical \n",
    "from keras.preprocessing.image import ImageDataGenerator\n",
    "from sklearn.ensemble import RandomForestClassifier\n",
    "from sklearn.svm import SVC"
   ]
  },
  {
   "cell_type": "code",
   "execution_count": 3,
   "id": "90e2a687",
   "metadata": {
    "executionInfo": {
     "elapsed": 833,
     "status": "ok",
     "timestamp": 1636712255567,
     "user": {
      "displayName": "Brendan Mike",
      "photoUrl": "https://lh3.googleusercontent.com/a/default-user=s64",
      "userId": "11749813885444586959"
     },
     "user_tz": -480
    },
    "id": "90e2a687"
   },
   "outputs": [],
   "source": [
    "# Project Specific Libraries\n",
    "\n",
    "import os\n",
    "import librosa\n",
    "import librosa.display\n",
    "import glob "
   ]
  },
  {
   "cell_type": "markdown",
   "id": "cc7b2d0b",
   "metadata": {
    "id": "cc7b2d0b"
   },
   "source": [
    "### MFCC"
   ]
  },
  {
   "cell_type": "code",
   "execution_count": 4,
   "id": "05f740af",
   "metadata": {
    "colab": {
     "base_uri": "https://localhost:8080/",
     "height": 200
    },
    "executionInfo": {
     "elapsed": 1493,
     "status": "ok",
     "timestamp": 1636712257812,
     "user": {
      "displayName": "Brendan Mike",
      "photoUrl": "https://lh3.googleusercontent.com/a/default-user=s64",
      "userId": "11749813885444586959"
     },
     "user_tz": -480
    },
    "id": "05f740af",
    "outputId": "c308912f-b053-4fd0-ba20-7affcdb2bcb7"
   },
   "outputs": [
    {
     "data": {
      "text/html": [
       "<div>\n",
       "<style scoped>\n",
       "    .dataframe tbody tr th:only-of-type {\n",
       "        vertical-align: middle;\n",
       "    }\n",
       "\n",
       "    .dataframe tbody tr th {\n",
       "        vertical-align: top;\n",
       "    }\n",
       "\n",
       "    .dataframe thead th {\n",
       "        text-align: right;\n",
       "    }\n",
       "</style>\n",
       "<table border=\"1\" class=\"dataframe\">\n",
       "  <thead>\n",
       "    <tr style=\"text-align: right;\">\n",
       "      <th></th>\n",
       "      <th>itemid</th>\n",
       "      <th>datasetid</th>\n",
       "      <th>fold</th>\n",
       "      <th>hasbird</th>\n",
       "    </tr>\n",
       "  </thead>\n",
       "  <tbody>\n",
       "    <tr>\n",
       "      <th>0</th>\n",
       "      <td>55.wav</td>\n",
       "      <td>ff1010bird</td>\n",
       "      <td>1</td>\n",
       "      <td>0</td>\n",
       "    </tr>\n",
       "    <tr>\n",
       "      <th>1</th>\n",
       "      <td>87.wav</td>\n",
       "      <td>ff1010bird</td>\n",
       "      <td>1</td>\n",
       "      <td>0</td>\n",
       "    </tr>\n",
       "    <tr>\n",
       "      <th>2</th>\n",
       "      <td>99.wav</td>\n",
       "      <td>ff1010bird</td>\n",
       "      <td>1</td>\n",
       "      <td>0</td>\n",
       "    </tr>\n",
       "    <tr>\n",
       "      <th>3</th>\n",
       "      <td>100.wav</td>\n",
       "      <td>ff1010bird</td>\n",
       "      <td>1</td>\n",
       "      <td>1</td>\n",
       "    </tr>\n",
       "    <tr>\n",
       "      <th>4</th>\n",
       "      <td>104.wav</td>\n",
       "      <td>ff1010bird</td>\n",
       "      <td>1</td>\n",
       "      <td>0</td>\n",
       "    </tr>\n",
       "  </tbody>\n",
       "</table>\n",
       "</div>"
      ],
      "text/plain": [
       "    itemid   datasetid  fold  hasbird\n",
       "0   55.wav  ff1010bird     1        0\n",
       "1   87.wav  ff1010bird     1        0\n",
       "2   99.wav  ff1010bird     1        0\n",
       "3  100.wav  ff1010bird     1        1\n",
       "4  104.wav  ff1010bird     1        0"
      ]
     },
     "execution_count": 4,
     "metadata": {},
     "output_type": "execute_result"
    }
   ],
   "source": [
    "# Extracting MFCC's For every audio file\n",
    "import pandas as pd\n",
    "import os\n",
    "import librosa\n",
    "\n",
    "audio_dataset_path=''\n",
    "metadata=pd.read_csv('metadata/ff1010bird_metadata_2018.csv')\n",
    "metadata.head()"
   ]
  },
  {
   "cell_type": "code",
   "execution_count": 5,
   "id": "dc5f2a95",
   "metadata": {
    "executionInfo": {
     "elapsed": 1,
     "status": "ok",
     "timestamp": 1636712260637,
     "user": {
      "displayName": "Brendan Mike",
      "photoUrl": "https://lh3.googleusercontent.com/a/default-user=s64",
      "userId": "11749813885444586959"
     },
     "user_tz": -480
    },
    "id": "dc5f2a95"
   },
   "outputs": [],
   "source": [
    "N_MELS = 40\n",
    "FFT_POINTS = 882 * 2\n",
    "SR = 44100\n",
    "HAMMING_SIGNAL = scipy.signal.hamming\n",
    "FRAMES = 500\n"
   ]
  },
  {
   "cell_type": "code",
   "execution_count": 6,
   "id": "a5e05e4c",
   "metadata": {
    "executionInfo": {
     "elapsed": 2,
     "status": "ok",
     "timestamp": 1636712261115,
     "user": {
      "displayName": "Brendan Mike",
      "photoUrl": "https://lh3.googleusercontent.com/a/default-user=s64",
      "userId": "11749813885444586959"
     },
     "user_tz": -480
    },
    "id": "a5e05e4c"
   },
   "outputs": [],
   "source": [
    "# creating a function that extracts and lable the file \n",
    "# normalising the audio \n",
    "\n",
    "def feature_extract(audio_dataset_path, data_fold, data_id, data_labels):\n",
    "    feature_file = []\n",
    "    label_file = []\n",
    "\n",
    "    for i in range(len(data_id)):\n",
    "        file_name = audio_dataset_path + 'fold' + str(data_fold[i]) + '/' + str(data_id[i])\n",
    "        [wave, _] = librosa.core.load(file_name ,sr=SR)  \n",
    "        wave = librosa.stft(wave, FFT_POINTS, win_length=FFT_POINTS,\n",
    "                            window=HAMMING_SIGNAL)  \n",
    "        wave = np.abs(wave) ** 2\n",
    "        spectrogram = librosa.feature.melspectrogram(S=wave, n_mels=N_MELS) \n",
    "        spectrogram = librosa.power_to_db(spectrogram, ref=np.max)\n",
    "        norm_spectrogram = spectrogram - np.amin(spectrogram)\n",
    "        norm_spectrogram = norm_spectrogram / float(np.amax(norm_spectrogram))\n",
    "\n",
    "        if int(norm_spectrogram.shape[1]) < FRAMES:  # 10 sec samples gives 500 frames\n",
    "            z_pad = np.zeros((N_MELS, FRAMES))\n",
    "            z_pad[:, :-(FRAMES - norm_spectrogram.shape[1])] = norm_spectrogram\n",
    "            feature_file.append(z_pad)\n",
    "        else:\n",
    "            img = norm_spectrogram[:, np.r_[0:FRAMES]]  # final_shape = 40*500\n",
    "            feature_file.append(img)\n",
    "\n",
    "        if len(data_labels) > 0:\n",
    "            label_file.append(data_labels[i])\n",
    "\n",
    "    feature_file = np.array(feature_file)\n",
    "    feature_file = np.reshape(feature_file, (len(data_id), N_MELS, FRAMES, 1))\n",
    "\n",
    "    if len(data_labels) > 0:  # In case of training data\n",
    "        label_file = np.array(label_file)\n",
    "        return feature_file, label_file\n",
    "    else:  # In case of testing data\n",
    "        return feature_file"
   ]
  },
  {
   "cell_type": "code",
   "execution_count": 7,
   "id": "bf916022",
   "metadata": {
    "executionInfo": {
     "elapsed": 46503,
     "status": "ok",
     "timestamp": 1636712308845,
     "user": {
      "displayName": "Brendan Mike",
      "photoUrl": "https://lh3.googleusercontent.com/a/default-user=s64",
      "userId": "11749813885444586959"
     },
     "user_tz": -480
    },
    "id": "bf916022",
    "scrolled": true
   },
   "outputs": [],
   "source": [
    "#load the extracted feautures\n",
    "X= np.load('features_data_X.npy')\n",
    "y= np.load('features_data_y.npy')"
   ]
  },
  {
   "cell_type": "code",
   "execution_count": 8,
   "id": "61726f9c",
   "metadata": {
    "colab": {
     "base_uri": "https://localhost:8080/"
    },
    "executionInfo": {
     "elapsed": 8,
     "status": "ok",
     "timestamp": 1636712308845,
     "user": {
      "displayName": "Brendan Mike",
      "photoUrl": "https://lh3.googleusercontent.com/a/default-user=s64",
      "userId": "11749813885444586959"
     },
     "user_tz": -480
    },
    "id": "61726f9c",
    "outputId": "a29b2ff0-1f3c-4ad0-fb43-3687924761e2"
   },
   "outputs": [
    {
     "data": {
      "text/plain": [
       "(15690, 40, 500, 1)"
      ]
     },
     "execution_count": 8,
     "metadata": {},
     "output_type": "execute_result"
    }
   ],
   "source": [
    "X.shape"
   ]
  },
  {
   "cell_type": "code",
   "execution_count": 9,
   "id": "c82d5267",
   "metadata": {
    "executionInfo": {
     "elapsed": 5,
     "status": "ok",
     "timestamp": 1636712308846,
     "user": {
      "displayName": "Brendan Mike",
      "photoUrl": "https://lh3.googleusercontent.com/a/default-user=s64",
      "userId": "11749813885444586959"
     },
     "user_tz": -480
    },
    "id": "c82d5267"
   },
   "outputs": [],
   "source": [
    "from tensorflow.keras.utils import to_categorical\n",
    "from sklearn.preprocessing import LabelEncoder\n",
    "labelencoder=LabelEncoder()\n",
    "y=to_categorical(labelencoder.fit_transform(y))"
   ]
  },
  {
   "cell_type": "code",
   "execution_count": 10,
   "id": "70f72fbe",
   "metadata": {
    "colab": {
     "base_uri": "https://localhost:8080/"
    },
    "executionInfo": {
     "elapsed": 5,
     "status": "ok",
     "timestamp": 1636712308846,
     "user": {
      "displayName": "Brendan Mike",
      "photoUrl": "https://lh3.googleusercontent.com/a/default-user=s64",
      "userId": "11749813885444586959"
     },
     "user_tz": -480
    },
    "id": "70f72fbe",
    "outputId": "6adbc956-9927-4a98-f5d5-1c4ad1170eb7"
   },
   "outputs": [
    {
     "data": {
      "text/plain": [
       "(15690, 2)"
      ]
     },
     "execution_count": 10,
     "metadata": {},
     "output_type": "execute_result"
    }
   ],
   "source": [
    "y.shape"
   ]
  },
  {
   "cell_type": "code",
   "execution_count": 11,
   "id": "cb573da2",
   "metadata": {
    "executionInfo": {
     "elapsed": 3096,
     "status": "ok",
     "timestamp": 1636712311938,
     "user": {
      "displayName": "Brendan Mike",
      "photoUrl": "https://lh3.googleusercontent.com/a/default-user=s64",
      "userId": "11749813885444586959"
     },
     "user_tz": -480
    },
    "id": "cb573da2"
   },
   "outputs": [],
   "source": [
    "#splitting the dataset to training and validation at random\n",
    "X_trainset, X_val, y_trainset, y_val = train_test_split(X, y, random_state = 1)"
   ]
  },
  {
   "cell_type": "code",
   "execution_count": 12,
   "id": "IDn17C17-Ij8",
   "metadata": {
    "executionInfo": {
     "elapsed": 1302,
     "status": "ok",
     "timestamp": 1636712313238,
     "user": {
      "displayName": "Brendan Mike",
      "photoUrl": "https://lh3.googleusercontent.com/a/default-user=s64",
      "userId": "11749813885444586959"
     },
     "user_tz": -480
    },
    "id": "IDn17C17-Ij8"
   },
   "outputs": [],
   "source": [
    "# splitting the training dataset to obtain some test set for the testing phase\n",
    "X_train, X_test, y_train, y_test = train_test_split(X_trainset, y_trainset, random_state = 1)"
   ]
  },
  {
   "cell_type": "code",
   "execution_count": 13,
   "id": "4e378ffb",
   "metadata": {
    "colab": {
     "base_uri": "https://localhost:8080/"
    },
    "executionInfo": {
     "elapsed": 8,
     "status": "ok",
     "timestamp": 1636712313239,
     "user": {
      "displayName": "Brendan Mike",
      "photoUrl": "https://lh3.googleusercontent.com/a/default-user=s64",
      "userId": "11749813885444586959"
     },
     "user_tz": -480
    },
    "id": "4e378ffb",
    "outputId": "f69c524f-21f3-4e39-e10d-57ea9656184c"
   },
   "outputs": [
    {
     "data": {
      "text/plain": [
       "(8825, 40, 500, 1)"
      ]
     },
     "execution_count": 13,
     "metadata": {},
     "output_type": "execute_result"
    }
   ],
   "source": [
    "X_train.shape"
   ]
  },
  {
   "cell_type": "code",
   "execution_count": 14,
   "id": "86e0729b",
   "metadata": {
    "colab": {
     "base_uri": "https://localhost:8080/"
    },
    "executionInfo": {
     "elapsed": 7,
     "status": "ok",
     "timestamp": 1636712313240,
     "user": {
      "displayName": "Brendan Mike",
      "photoUrl": "https://lh3.googleusercontent.com/a/default-user=s64",
      "userId": "11749813885444586959"
     },
     "user_tz": -480
    },
    "id": "86e0729b",
    "outputId": "7abccb2c-0e15-40d0-a18c-d9b7b825b872"
   },
   "outputs": [
    {
     "data": {
      "text/plain": [
       "(2942, 40, 500, 1)"
      ]
     },
     "execution_count": 14,
     "metadata": {},
     "output_type": "execute_result"
    }
   ],
   "source": [
    "X_test.shape"
   ]
  },
  {
   "cell_type": "code",
   "execution_count": 15,
   "id": "Zg2TL9ZR-PAc",
   "metadata": {
    "colab": {
     "base_uri": "https://localhost:8080/"
    },
    "executionInfo": {
     "elapsed": 6,
     "status": "ok",
     "timestamp": 1636712313240,
     "user": {
      "displayName": "Brendan Mike",
      "photoUrl": "https://lh3.googleusercontent.com/a/default-user=s64",
      "userId": "11749813885444586959"
     },
     "user_tz": -480
    },
    "id": "Zg2TL9ZR-PAc",
    "outputId": "2698d65c-8bba-40d2-ee7f-f52c43aa6860"
   },
   "outputs": [
    {
     "data": {
      "text/plain": [
       "(3923, 40, 500, 1)"
      ]
     },
     "execution_count": 15,
     "metadata": {},
     "output_type": "execute_result"
    }
   ],
   "source": [
    "X_val.shape"
   ]
  },
  {
   "cell_type": "code",
   "execution_count": 16,
   "id": "8110907e",
   "metadata": {
    "executionInfo": {
     "elapsed": 4,
     "status": "ok",
     "timestamp": 1636712313240,
     "user": {
      "displayName": "Brendan Mike",
      "photoUrl": "https://lh3.googleusercontent.com/a/default-user=s64",
      "userId": "11749813885444586959"
     },
     "user_tz": -480
    },
    "id": "8110907e"
   },
   "outputs": [],
   "source": [
    "input_dim = (40, 500, 1)"
   ]
  },
  {
   "cell_type": "markdown",
   "id": "9281d824",
   "metadata": {},
   "source": [
    "### predicting the model in raspberry pi"
   ]
  },
  {
   "cell_type": "code",
   "execution_count": 17,
   "id": "PvKyvStopMyP",
   "metadata": {
    "executionInfo": {
     "elapsed": 6259,
     "status": "ok",
     "timestamp": 1636712320573,
     "user": {
      "displayName": "Brendan Mike",
      "photoUrl": "https://lh3.googleusercontent.com/a/default-user=s64",
      "userId": "11749813885444586959"
     },
     "user_tz": -480
    },
    "id": "PvKyvStopMyP"
   },
   "outputs": [],
   "source": [
    "model = Sequential()\n",
    "model.add(Conv2D(48, kernel_size=3, activation='relu', input_shape=input_dim))\n",
    "model.add(BatchNormalization())\n",
    "model.add(Dropout(0.4))\n",
    "model.add(Conv2D(48, kernel_size=3, activation='relu'))\n",
    "model.add(BatchNormalization())\n",
    "model.add(Dropout(0.4))\n",
    "model.add(Conv2D(48, kernel_size=5, strides=2, padding='same', activation='relu'))\n",
    "model.add(BatchNormalization())\n",
    "model.add(Dropout(0.4))\n",
    "\n",
    "model.add(Conv2D(96, kernel_size=3, activation='relu'))\n",
    "model.add(BatchNormalization())\n",
    "model.add(Dropout(0.4))\n",
    "model.add(Conv2D(96, kernel_size=3, activation='relu'))\n",
    "model.add(BatchNormalization())\n",
    "model.add(Dropout(0.4))\n",
    "model.add(Conv2D(96, kernel_size=5, strides=2, padding='same', activation='relu'))\n",
    "model.add(BatchNormalization())\n",
    "model.add(Dropout(0.4))\n",
    "model.add(Flatten())\n",
    "\n",
    "model.add(Dense(384, activation='relu'))\n",
    "model.add(BatchNormalization())\n",
    "model.add(Dropout(0.4))\n",
    "model.add(Dense(2, activation='sigmoid'))"
   ]
  },
  {
   "cell_type": "code",
   "execution_count": 18,
   "id": "mu4tOIhBqi-O",
   "metadata": {
    "executionInfo": {
     "elapsed": 820,
     "status": "ok",
     "timestamp": 1636712482245,
     "user": {
      "displayName": "Brendan Mike",
      "photoUrl": "https://lh3.googleusercontent.com/a/default-user=s64",
      "userId": "11749813885444586959"
     },
     "user_tz": -480
    },
    "id": "mu4tOIhBqi-O"
   },
   "outputs": [],
   "source": [
    "optimizer = tf.keras.optimizers.Adam(learning_rate=3e-4)\n",
    "model.compile(optimizer = optimizer, loss = 'categorical_crossentropy', metrics = ['accuracy'])"
   ]
  },
  {
   "cell_type": "code",
   "execution_count": 19,
   "id": "oT6KeqOOpYan",
   "metadata": {
    "executionInfo": {
     "elapsed": 795,
     "status": "ok",
     "timestamp": 1636712486970,
     "user": {
      "displayName": "Brendan Mike",
      "photoUrl": "https://lh3.googleusercontent.com/a/default-user=s64",
      "userId": "11749813885444586959"
     },
     "user_tz": -480
    },
    "id": "oT6KeqOOpYan"
   },
   "outputs": [],
   "source": [
    "model.load_weights('saved_models/audio_classification.hdf5')"
   ]
  },
  {
   "cell_type": "code",
   "execution_count": 20,
   "id": "VHjQ6_KQqKGe",
   "metadata": {
    "colab": {
     "base_uri": "https://localhost:8080/"
    },
    "executionInfo": {
     "elapsed": 40355,
     "status": "ok",
     "timestamp": 1636712533999,
     "user": {
      "displayName": "Brendan Mike",
      "photoUrl": "https://lh3.googleusercontent.com/a/default-user=s64",
      "userId": "11749813885444586959"
     },
     "user_tz": -480
    },
    "id": "VHjQ6_KQqKGe",
    "outputId": "34d24710-8bd5-4464-ef5a-4274c8fc3de7"
   },
   "outputs": [
    {
     "name": "stdout",
     "output_type": "stream",
     "text": [
      "1/1 - 0s\n"
     ]
    },
    {
     "data": {
      "text/plain": [
       "array([[4.8834065e-01, 2.3561901e-01],\n",
       "       [6.6886544e-01, 6.4591908e-01],\n",
       "       [4.2308390e-02, 9.3038183e-01],\n",
       "       [1.7551738e-01, 5.5184484e-02],\n",
       "       [6.9735706e-02, 2.9601804e-05],\n",
       "       [8.8365364e-01, 8.4296197e-02],\n",
       "       [2.6724654e-01, 7.9893982e-01],\n",
       "       [8.7394547e-01, 1.7172927e-01],\n",
       "       [4.8527196e-01, 9.8578286e-01],\n",
       "       [2.2419697e-01, 8.0890739e-01]], dtype=float32)"
      ]
     },
     "execution_count": 20,
     "metadata": {},
     "output_type": "execute_result"
    }
   ],
   "source": [
    "model.predict(X_test[:10], verbose=2)"
   ]
  },
  {
   "cell_type": "code",
   "execution_count": null,
   "id": "0c373272",
   "metadata": {},
   "outputs": [],
   "source": []
  }
 ],
 "metadata": {
  "accelerator": "GPU",
  "colab": {
   "collapsed_sections": [],
   "name": "Audio_3.ipynb",
   "provenance": []
  },
  "kernelspec": {
   "display_name": "Python 3",
   "language": "python",
   "name": "python3"
  },
  "language_info": {
   "codemirror_mode": {
    "name": "ipython",
    "version": 3
   },
   "file_extension": ".py",
   "mimetype": "text/x-python",
   "name": "python",
   "nbconvert_exporter": "python",
   "pygments_lexer": "ipython3",
   "version": "3.8.8"
  }
 },
 "nbformat": 4,
 "nbformat_minor": 5
}
