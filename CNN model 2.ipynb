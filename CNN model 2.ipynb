{
 "cells": [
  {
   "cell_type": "code",
   "execution_count": 3,
   "id": "8bc090b5",
   "metadata": {
    "executionInfo": {
     "elapsed": 2877,
     "status": "ok",
     "timestamp": 1636967310156,
     "user": {
      "displayName": "espresso double",
      "photoUrl": "https://lh3.googleusercontent.com/a/default-user=s64",
      "userId": "12284788624354514518"
     },
     "user_tz": -480
    },
    "id": "8bc090b5"
   },
   "outputs": [],
   "source": [
    "# Basic Libraries\n",
    "import tensorflow as tf\n",
    "import pandas as pd\n",
    "import numpy as np\n",
    "import scipy.signal\n",
    "\n",
    "pd.plotting.register_matplotlib_converters()\n",
    "import matplotlib.pyplot as plt\n",
    "%matplotlib inline\n",
    "\n",
    "\n",
    "from sklearn.model_selection import train_test_split\n",
    "from sklearn.metrics import classification_report\n",
    "from sklearn.model_selection import GridSearchCV\n"
   ]
  },
  {
   "cell_type": "code",
   "execution_count": 4,
   "id": "c3d3e2f3",
   "metadata": {
    "executionInfo": {
     "elapsed": 583,
     "status": "ok",
     "timestamp": 1636967310737,
     "user": {
      "displayName": "espresso double",
      "photoUrl": "https://lh3.googleusercontent.com/a/default-user=s64",
      "userId": "12284788624354514518"
     },
     "user_tz": -480
    },
    "id": "c3d3e2f3"
   },
   "outputs": [],
   "source": [
    "# Libraries for Classification and building Models\n",
    "import keras\n",
    "from tensorflow.keras.models import Sequential\n",
    "from tensorflow.keras.layers import Conv2D, Flatten, Dense, MaxPool2D, Dropout, BatchNormalization\n",
    "from tensorflow.keras.utils import to_categorical \n",
    "from keras.preprocessing.image import ImageDataGenerator\n",
    "from sklearn.ensemble import RandomForestClassifier\n",
    "from sklearn.svm import SVC"
   ]
  },
  {
   "cell_type": "code",
   "execution_count": 5,
   "id": "90e2a687",
   "metadata": {
    "executionInfo": {
     "elapsed": 1562,
     "status": "ok",
     "timestamp": 1636967312297,
     "user": {
      "displayName": "espresso double",
      "photoUrl": "https://lh3.googleusercontent.com/a/default-user=s64",
      "userId": "12284788624354514518"
     },
     "user_tz": -480
    },
    "id": "90e2a687"
   },
   "outputs": [],
   "source": [
    "# Project Specific Libraries\n",
    "\n",
    "import os\n",
    "import librosa\n",
    "import librosa.display\n",
    "import glob "
   ]
  },
  {
   "cell_type": "markdown",
   "id": "9b788e9b",
   "metadata": {
    "id": "9b788e9b"
   },
   "source": [
    "###  MFCC"
   ]
  },
  {
   "cell_type": "code",
   "execution_count": 6,
   "id": "05f740af",
   "metadata": {
    "colab": {
     "base_uri": "https://localhost:8080/",
     "height": 200
    },
    "executionInfo": {
     "elapsed": 345,
     "status": "ok",
     "timestamp": 1636967313127,
     "user": {
      "displayName": "espresso double",
      "photoUrl": "https://lh3.googleusercontent.com/a/default-user=s64",
      "userId": "12284788624354514518"
     },
     "user_tz": -480
    },
    "id": "05f740af",
    "outputId": "39a767af-982d-4e90-e032-cca02eefcdc1"
   },
   "outputs": [
    {
     "data": {
      "text/html": [
       "<div>\n",
       "<style scoped>\n",
       "    .dataframe tbody tr th:only-of-type {\n",
       "        vertical-align: middle;\n",
       "    }\n",
       "\n",
       "    .dataframe tbody tr th {\n",
       "        vertical-align: top;\n",
       "    }\n",
       "\n",
       "    .dataframe thead th {\n",
       "        text-align: right;\n",
       "    }\n",
       "</style>\n",
       "<table border=\"1\" class=\"dataframe\">\n",
       "  <thead>\n",
       "    <tr style=\"text-align: right;\">\n",
       "      <th></th>\n",
       "      <th>itemid</th>\n",
       "      <th>datasetid</th>\n",
       "      <th>fold</th>\n",
       "      <th>hasbird</th>\n",
       "    </tr>\n",
       "  </thead>\n",
       "  <tbody>\n",
       "    <tr>\n",
       "      <th>0</th>\n",
       "      <td>55.wav</td>\n",
       "      <td>ff1010bird</td>\n",
       "      <td>1</td>\n",
       "      <td>0</td>\n",
       "    </tr>\n",
       "    <tr>\n",
       "      <th>1</th>\n",
       "      <td>87.wav</td>\n",
       "      <td>ff1010bird</td>\n",
       "      <td>1</td>\n",
       "      <td>0</td>\n",
       "    </tr>\n",
       "    <tr>\n",
       "      <th>2</th>\n",
       "      <td>99.wav</td>\n",
       "      <td>ff1010bird</td>\n",
       "      <td>1</td>\n",
       "      <td>0</td>\n",
       "    </tr>\n",
       "    <tr>\n",
       "      <th>3</th>\n",
       "      <td>100.wav</td>\n",
       "      <td>ff1010bird</td>\n",
       "      <td>1</td>\n",
       "      <td>1</td>\n",
       "    </tr>\n",
       "    <tr>\n",
       "      <th>4</th>\n",
       "      <td>104.wav</td>\n",
       "      <td>ff1010bird</td>\n",
       "      <td>1</td>\n",
       "      <td>0</td>\n",
       "    </tr>\n",
       "  </tbody>\n",
       "</table>\n",
       "</div>"
      ],
      "text/plain": [
       "    itemid   datasetid  fold  hasbird\n",
       "0   55.wav  ff1010bird     1        0\n",
       "1   87.wav  ff1010bird     1        0\n",
       "2   99.wav  ff1010bird     1        0\n",
       "3  100.wav  ff1010bird     1        1\n",
       "4  104.wav  ff1010bird     1        0"
      ]
     },
     "execution_count": 6,
     "metadata": {},
     "output_type": "execute_result"
    }
   ],
   "source": [
    "# Extracting MFCC's For every audio file\n",
    "import pandas as pd\n",
    "import os\n",
    "import librosa\n",
    "\n",
    "audio_dataset_path='audio/'\n",
    "metadata=pd.read_csv('metadata/ff1010bird_metadata_2018.csv')\n",
    "metadata.head()"
   ]
  },
  {
   "cell_type": "code",
   "execution_count": 7,
   "id": "dc5f2a95",
   "metadata": {
    "executionInfo": {
     "elapsed": 8,
     "status": "ok",
     "timestamp": 1636967313128,
     "user": {
      "displayName": "espresso double",
      "photoUrl": "https://lh3.googleusercontent.com/a/default-user=s64",
      "userId": "12284788624354514518"
     },
     "user_tz": -480
    },
    "id": "dc5f2a95"
   },
   "outputs": [],
   "source": [
    "N_MELS = 40\n",
    "FFT_POINTS = 882 * 2\n",
    "SR = 44100\n",
    "HAMMING_SIGNAL = scipy.signal.hamming\n",
    "FRAMES = 500\n"
   ]
  },
  {
   "cell_type": "code",
   "execution_count": 8,
   "id": "a5e05e4c",
   "metadata": {
    "executionInfo": {
     "elapsed": 8,
     "status": "ok",
     "timestamp": 1636967313128,
     "user": {
      "displayName": "espresso double",
      "photoUrl": "https://lh3.googleusercontent.com/a/default-user=s64",
      "userId": "12284788624354514518"
     },
     "user_tz": -480
    },
    "id": "a5e05e4c"
   },
   "outputs": [],
   "source": [
    "# creating a function that extracts and lable the file \n",
    "# normalising the audio \n",
    "\n",
    "def feature_extract(audio_dataset_path, data_fold, data_id, data_labels):\n",
    "    feature_file = []\n",
    "    label_file = []\n",
    "\n",
    "    for i in range(len(data_id)):\n",
    "        #file_name = os.path.join(os.path.abspath(audio_dataset_path), 'fold'+str(row[\"fold\"])+'/',str(row[\"itemid\"]))\n",
    "        file_name = audio_dataset_path + 'fold' + str(data_fold[i]) + '/' + str(data_id[i])\n",
    "        [wave, _] = librosa.core.load(file_name ,sr=SR)  # read wav file (fs = 44.1 kHz)\n",
    "        wave = librosa.stft(wave, FFT_POINTS, win_length=FFT_POINTS,\n",
    "                            window=HAMMING_SIGNAL)  # STFT computation (fft_points = 882*2, overlap= 50%, analysis_window=40ms)\n",
    "        wave = np.abs(wave) ** 2\n",
    "        spectrogram = librosa.feature.melspectrogram(S=wave, n_mels=N_MELS)  # mel bands (40)\n",
    "        spectrogram = librosa.power_to_db(spectrogram, ref=np.max)\n",
    "        norm_spectrogram = spectrogram - np.amin(spectrogram)\n",
    "        norm_spectrogram = norm_spectrogram / float(np.amax(norm_spectrogram))\n",
    "\n",
    "        if int(norm_spectrogram.shape[1]) < FRAMES:  # 10 sec samples gives 500 frames\n",
    "            z_pad = np.zeros((N_MELS, FRAMES))\n",
    "            z_pad[:, :-(FRAMES - norm_spectrogram.shape[1])] = norm_spectrogram\n",
    "            feature_file.append(z_pad)\n",
    "        else:\n",
    "            img = norm_spectrogram[:, np.r_[0:FRAMES]]  # final_shape = 40*500\n",
    "            feature_file.append(img)\n",
    "\n",
    "        if len(data_labels) > 0:\n",
    "            label_file.append(data_labels[i])\n",
    "\n",
    "    feature_file = np.array(feature_file)\n",
    "    feature_file = np.reshape(feature_file, (len(data_id), N_MELS, FRAMES, 1))\n",
    "\n",
    "    if len(data_labels) > 0:  # In case of training data\n",
    "        label_file = np.array(label_file)\n",
    "        return feature_file, label_file\n",
    "    else:  # In case of testing data\n",
    "        return feature_file"
   ]
  },
  {
   "cell_type": "code",
   "execution_count": 9,
   "id": "02cfd896",
   "metadata": {
    "executionInfo": {
     "elapsed": 40963,
     "status": "ok",
     "timestamp": 1636967354083,
     "user": {
      "displayName": "espresso double",
      "photoUrl": "https://lh3.googleusercontent.com/a/default-user=s64",
      "userId": "12284788624354514518"
     },
     "user_tz": -480
    },
    "id": "02cfd896"
   },
   "outputs": [],
   "source": [
    "#load the extracted feautures\n",
    "X= np.load('features_data_X.npy')\n",
    "y= np.load('features_data_y.npy')"
   ]
  },
  {
   "cell_type": "code",
   "execution_count": 10,
   "id": "61726f9c",
   "metadata": {
    "colab": {
     "base_uri": "https://localhost:8080/"
    },
    "executionInfo": {
     "elapsed": 13,
     "status": "ok",
     "timestamp": 1636967354083,
     "user": {
      "displayName": "espresso double",
      "photoUrl": "https://lh3.googleusercontent.com/a/default-user=s64",
      "userId": "12284788624354514518"
     },
     "user_tz": -480
    },
    "id": "61726f9c",
    "outputId": "62fc3979-d92a-4f23-facc-0bd65a698f5c"
   },
   "outputs": [
    {
     "data": {
      "text/plain": [
       "(15690, 40, 500, 1)"
      ]
     },
     "execution_count": 10,
     "metadata": {},
     "output_type": "execute_result"
    }
   ],
   "source": [
    "X.shape"
   ]
  },
  {
   "cell_type": "code",
   "execution_count": 11,
   "id": "c82d5267",
   "metadata": {
    "executionInfo": {
     "elapsed": 11,
     "status": "ok",
     "timestamp": 1636967354084,
     "user": {
      "displayName": "espresso double",
      "photoUrl": "https://lh3.googleusercontent.com/a/default-user=s64",
      "userId": "12284788624354514518"
     },
     "user_tz": -480
    },
    "id": "c82d5267"
   },
   "outputs": [],
   "source": [
    "from tensorflow.keras.utils import to_categorical\n",
    "from sklearn.preprocessing import LabelEncoder\n",
    "labelencoder=LabelEncoder()\n",
    "y=to_categorical(labelencoder.fit_transform(y))"
   ]
  },
  {
   "cell_type": "code",
   "execution_count": 12,
   "id": "70f72fbe",
   "metadata": {
    "colab": {
     "base_uri": "https://localhost:8080/"
    },
    "executionInfo": {
     "elapsed": 11,
     "status": "ok",
     "timestamp": 1636967354084,
     "user": {
      "displayName": "espresso double",
      "photoUrl": "https://lh3.googleusercontent.com/a/default-user=s64",
      "userId": "12284788624354514518"
     },
     "user_tz": -480
    },
    "id": "70f72fbe",
    "outputId": "a9096f29-7469-43d8-c420-35ed623ec6aa"
   },
   "outputs": [
    {
     "data": {
      "text/plain": [
       "(15690, 2)"
      ]
     },
     "execution_count": 12,
     "metadata": {},
     "output_type": "execute_result"
    }
   ],
   "source": [
    "y.shape"
   ]
  },
  {
   "cell_type": "markdown",
   "id": "19bc5c1f",
   "metadata": {
    "id": "19bc5c1f"
   },
   "source": [
    "### Splitting dataset "
   ]
  },
  {
   "cell_type": "code",
   "execution_count": 13,
   "id": "cb573da2",
   "metadata": {
    "executionInfo": {
     "elapsed": 2959,
     "status": "ok",
     "timestamp": 1636967357034,
     "user": {
      "displayName": "espresso double",
      "photoUrl": "https://lh3.googleusercontent.com/a/default-user=s64",
      "userId": "12284788624354514518"
     },
     "user_tz": -480
    },
    "id": "cb573da2"
   },
   "outputs": [],
   "source": [
    "#splitting the dataset to training and validation\n",
    "X_trainset, X_val, y_trainset, y_val = train_test_split(X, y, random_state = 1)"
   ]
  },
  {
   "cell_type": "code",
   "execution_count": 14,
   "id": "4e378ffb",
   "metadata": {
    "colab": {
     "base_uri": "https://localhost:8080/"
    },
    "executionInfo": {
     "elapsed": 8,
     "status": "ok",
     "timestamp": 1636967357035,
     "user": {
      "displayName": "espresso double",
      "photoUrl": "https://lh3.googleusercontent.com/a/default-user=s64",
      "userId": "12284788624354514518"
     },
     "user_tz": -480
    },
    "id": "4e378ffb",
    "outputId": "f97e043f-f43b-49d0-8279-cc1018b8ea1e"
   },
   "outputs": [
    {
     "data": {
      "text/plain": [
       "(11767, 40, 500, 1)"
      ]
     },
     "execution_count": 14,
     "metadata": {},
     "output_type": "execute_result"
    }
   ],
   "source": [
    "X_trainset.shape"
   ]
  },
  {
   "cell_type": "code",
   "execution_count": 15,
   "id": "86e0729b",
   "metadata": {
    "colab": {
     "base_uri": "https://localhost:8080/"
    },
    "executionInfo": {
     "elapsed": 5,
     "status": "ok",
     "timestamp": 1636967357035,
     "user": {
      "displayName": "espresso double",
      "photoUrl": "https://lh3.googleusercontent.com/a/default-user=s64",
      "userId": "12284788624354514518"
     },
     "user_tz": -480
    },
    "id": "86e0729b",
    "outputId": "7509275f-d787-45b1-f84d-9934f9290102"
   },
   "outputs": [
    {
     "data": {
      "text/plain": [
       "(3923, 40, 500, 1)"
      ]
     },
     "execution_count": 15,
     "metadata": {},
     "output_type": "execute_result"
    }
   ],
   "source": [
    "X_val.shape"
   ]
  },
  {
   "cell_type": "code",
   "execution_count": 16,
   "id": "605fdd0f",
   "metadata": {
    "executionInfo": {
     "elapsed": 522,
     "status": "ok",
     "timestamp": 1636967357554,
     "user": {
      "displayName": "espresso double",
      "photoUrl": "https://lh3.googleusercontent.com/a/default-user=s64",
      "userId": "12284788624354514518"
     },
     "user_tz": -480
    },
    "id": "605fdd0f"
   },
   "outputs": [],
   "source": [
    "# splitting the training dataset to obtain some test set for the testing phase\n",
    "X_train, X_test, y_train, y_test = train_test_split(X_trainset, y_trainset, random_state = 1)"
   ]
  },
  {
   "cell_type": "code",
   "execution_count": 17,
   "id": "16fd5340",
   "metadata": {
    "colab": {
     "base_uri": "https://localhost:8080/"
    },
    "executionInfo": {
     "elapsed": 7,
     "status": "ok",
     "timestamp": 1636967357555,
     "user": {
      "displayName": "espresso double",
      "photoUrl": "https://lh3.googleusercontent.com/a/default-user=s64",
      "userId": "12284788624354514518"
     },
     "user_tz": -480
    },
    "id": "16fd5340",
    "outputId": "d2a8c913-c0c7-4126-e774-c8cf10a5209f"
   },
   "outputs": [
    {
     "data": {
      "text/plain": [
       "(8825, 40, 500, 1)"
      ]
     },
     "execution_count": 17,
     "metadata": {},
     "output_type": "execute_result"
    }
   ],
   "source": [
    "X_train.shape"
   ]
  },
  {
   "cell_type": "code",
   "execution_count": 18,
   "id": "1866f80a",
   "metadata": {
    "colab": {
     "base_uri": "https://localhost:8080/"
    },
    "executionInfo": {
     "elapsed": 5,
     "status": "ok",
     "timestamp": 1636967357555,
     "user": {
      "displayName": "espresso double",
      "photoUrl": "https://lh3.googleusercontent.com/a/default-user=s64",
      "userId": "12284788624354514518"
     },
     "user_tz": -480
    },
    "id": "1866f80a",
    "outputId": "319f2515-2281-4f42-e658-493a41a03425"
   },
   "outputs": [
    {
     "data": {
      "text/plain": [
       "(2942, 40, 500, 1)"
      ]
     },
     "execution_count": 18,
     "metadata": {},
     "output_type": "execute_result"
    }
   ],
   "source": [
    "X_test.shape"
   ]
  },
  {
   "cell_type": "code",
   "execution_count": 19,
   "id": "0904e711",
   "metadata": {
    "colab": {
     "base_uri": "https://localhost:8080/"
    },
    "executionInfo": {
     "elapsed": 4,
     "status": "ok",
     "timestamp": 1636967357555,
     "user": {
      "displayName": "espresso double",
      "photoUrl": "https://lh3.googleusercontent.com/a/default-user=s64",
      "userId": "12284788624354514518"
     },
     "user_tz": -480
    },
    "id": "0904e711",
    "outputId": "badf59e9-c22e-4e51-b508-ab66bba231e4"
   },
   "outputs": [
    {
     "data": {
      "text/plain": [
       "(3923, 40, 500, 1)"
      ]
     },
     "execution_count": 19,
     "metadata": {},
     "output_type": "execute_result"
    }
   ],
   "source": [
    "X_val.shape"
   ]
  },
  {
   "cell_type": "code",
   "execution_count": 20,
   "id": "8110907e",
   "metadata": {
    "executionInfo": {
     "elapsed": 3,
     "status": "ok",
     "timestamp": 1636967357555,
     "user": {
      "displayName": "espresso double",
      "photoUrl": "https://lh3.googleusercontent.com/a/default-user=s64",
      "userId": "12284788624354514518"
     },
     "user_tz": -480
    },
    "id": "8110907e"
   },
   "outputs": [],
   "source": [
    "input_dim = (40, 500, 1)"
   ]
  },
  {
   "cell_type": "markdown",
   "id": "a0f7563c",
   "metadata": {
    "id": "a0f7563c"
   },
   "source": [
    "### CNN Model"
   ]
  },
  {
   "cell_type": "code",
   "execution_count": 21,
   "id": "5c8f9bff",
   "metadata": {
    "executionInfo": {
     "elapsed": 6047,
     "status": "ok",
     "timestamp": 1636967363599,
     "user": {
      "displayName": "espresso double",
      "photoUrl": "https://lh3.googleusercontent.com/a/default-user=s64",
      "userId": "12284788624354514518"
     },
     "user_tz": -480
    },
    "id": "5c8f9bff"
   },
   "outputs": [],
   "source": [
    "model = Sequential()\n",
    "model.add(Conv2D(48, kernel_size=3, activation='relu', input_shape=input_dim))\n",
    "model.add(BatchNormalization())\n",
    "model.add(Dropout(0.4))\n",
    "model.add(Conv2D(48, kernel_size=5, strides=2, padding='same', activation='relu'))\n",
    "model.add(BatchNormalization())\n",
    "model.add(Dropout(0.4))\n",
    "\n",
    "model.add(Conv2D(96, kernel_size=3, activation='relu'))\n",
    "model.add(BatchNormalization())\n",
    "model.add(Dropout(0.4))\n",
    "model.add(Conv2D(96, kernel_size=5, strides=2, padding='same', activation='relu'))\n",
    "model.add(BatchNormalization())\n",
    "model.add(Dropout(0.4))\n",
    "model.add(Flatten())\n",
    "\n",
    "model.add(Dense(384, activation='relu'))\n",
    "model.add(BatchNormalization())\n",
    "model.add(Dropout(0.4))\n",
    "model.add(Dense(2, activation='sigmoid'))"
   ]
  },
  {
   "cell_type": "code",
   "execution_count": 24,
   "id": "a112ba86",
   "metadata": {
    "colab": {
     "base_uri": "https://localhost:8080/"
    },
    "executionInfo": {
     "elapsed": 292,
     "status": "ok",
     "timestamp": 1636967389496,
     "user": {
      "displayName": "espresso double",
      "photoUrl": "https://lh3.googleusercontent.com/a/default-user=s64",
      "userId": "12284788624354514518"
     },
     "user_tz": -480
    },
    "id": "a112ba86",
    "outputId": "ab2f269a-5712-44db-cec3-c3cb4f000d2c"
   },
   "outputs": [
    {
     "name": "stderr",
     "output_type": "stream",
     "text": [
      "/usr/local/lib/python3.7/dist-packages/keras/optimizer_v2/adam.py:105: UserWarning: The `lr` argument is deprecated, use `learning_rate` instead.\n",
      "  super(Adam, self).__init__(name, **kwargs)\n"
     ]
    }
   ],
   "source": [
    "optimizer = tf.keras.optimizers.Adam(lr=3e-4)\n",
    "model.compile(optimizer = optimizer, loss = 'categorical_crossentropy', metrics = ['accuracy'])"
   ]
  },
  {
   "cell_type": "code",
   "execution_count": 25,
   "id": "8bc1100e",
   "metadata": {
    "colab": {
     "base_uri": "https://localhost:8080/"
    },
    "executionInfo": {
     "elapsed": 484,
     "status": "ok",
     "timestamp": 1636967390272,
     "user": {
      "displayName": "espresso double",
      "photoUrl": "https://lh3.googleusercontent.com/a/default-user=s64",
      "userId": "12284788624354514518"
     },
     "user_tz": -480
    },
    "id": "8bc1100e",
    "outputId": "ca529b92-1ce9-4b27-9f26-e1b38bb787f1",
    "scrolled": true
   },
   "outputs": [
    {
     "name": "stdout",
     "output_type": "stream",
     "text": [
      "Model: \"sequential\"\n",
      "_________________________________________________________________\n",
      " Layer (type)                Output Shape              Param #   \n",
      "=================================================================\n",
      " conv2d (Conv2D)             (None, 38, 498, 48)       480       \n",
      "                                                                 \n",
      " batch_normalization (BatchN  (None, 38, 498, 48)      192       \n",
      " ormalization)                                                   \n",
      "                                                                 \n",
      " dropout (Dropout)           (None, 38, 498, 48)       0         \n",
      "                                                                 \n",
      " conv2d_1 (Conv2D)           (None, 19, 249, 48)       57648     \n",
      "                                                                 \n",
      " batch_normalization_1 (Batc  (None, 19, 249, 48)      192       \n",
      " hNormalization)                                                 \n",
      "                                                                 \n",
      " dropout_1 (Dropout)         (None, 19, 249, 48)       0         \n",
      "                                                                 \n",
      " conv2d_2 (Conv2D)           (None, 17, 247, 96)       41568     \n",
      "                                                                 \n",
      " batch_normalization_2 (Batc  (None, 17, 247, 96)      384       \n",
      " hNormalization)                                                 \n",
      "                                                                 \n",
      " dropout_2 (Dropout)         (None, 17, 247, 96)       0         \n",
      "                                                                 \n",
      " conv2d_3 (Conv2D)           (None, 9, 124, 96)        230496    \n",
      "                                                                 \n",
      " batch_normalization_3 (Batc  (None, 9, 124, 96)       384       \n",
      " hNormalization)                                                 \n",
      "                                                                 \n",
      " dropout_3 (Dropout)         (None, 9, 124, 96)        0         \n",
      "                                                                 \n",
      " flatten (Flatten)           (None, 107136)            0         \n",
      "                                                                 \n",
      " dense (Dense)               (None, 384)               41140608  \n",
      "                                                                 \n",
      " batch_normalization_4 (Batc  (None, 384)              1536      \n",
      " hNormalization)                                                 \n",
      "                                                                 \n",
      " dropout_4 (Dropout)         (None, 384)               0         \n",
      "                                                                 \n",
      " dense_1 (Dense)             (None, 2)                 770       \n",
      "                                                                 \n",
      "=================================================================\n",
      "Total params: 41,474,258\n",
      "Trainable params: 41,472,914\n",
      "Non-trainable params: 1,344\n",
      "_________________________________________________________________\n"
     ]
    }
   ],
   "source": [
    "model.summary()"
   ]
  },
  {
   "cell_type": "code",
   "execution_count": 26,
   "id": "4238e0f8",
   "metadata": {
    "executionInfo": {
     "elapsed": 3,
     "status": "ok",
     "timestamp": 1636967390272,
     "user": {
      "displayName": "espresso double",
      "photoUrl": "https://lh3.googleusercontent.com/a/default-user=s64",
      "userId": "12284788624354514518"
     },
     "user_tz": -480
    },
    "id": "4238e0f8"
   },
   "outputs": [],
   "source": [
    "def data_augmentation():\n",
    "    gen = ImageDataGenerator(\n",
    "        width_shift_range=0.1,\n",
    "        height_shift_range=0.1,\n",
    "        horizontal_flip=True)\n",
    "    return gen"
   ]
  },
  {
   "cell_type": "code",
   "execution_count": 27,
   "id": "c3b294f2",
   "metadata": {
    "executionInfo": {
     "elapsed": 3,
     "status": "ok",
     "timestamp": 1636967390273,
     "user": {
      "displayName": "espresso double",
      "photoUrl": "https://lh3.googleusercontent.com/a/default-user=s64",
      "userId": "12284788624354514518"
     },
     "user_tz": -480
    },
    "id": "c3b294f2"
   },
   "outputs": [],
   "source": [
    "gen = data_augmentation()"
   ]
  },
  {
   "cell_type": "code",
   "execution_count": 28,
   "id": "35a6b1fb",
   "metadata": {
    "executionInfo": {
     "elapsed": 3,
     "status": "ok",
     "timestamp": 1636967390273,
     "user": {
      "displayName": "espresso double",
      "photoUrl": "https://lh3.googleusercontent.com/a/default-user=s64",
      "userId": "12284788624354514518"
     },
     "user_tz": -480
    },
    "id": "35a6b1fb"
   },
   "outputs": [],
   "source": [
    "#adding the learning rate\n",
    "def scheduler(epoch, lr):\n",
    "  if epoch < 10:\n",
    "    return lr\n",
    "  else:\n",
    "    return lr * tf.math.exp(-0.1)"
   ]
  },
  {
   "cell_type": "code",
   "execution_count": 29,
   "id": "2898c502",
   "metadata": {
    "executionInfo": {
     "elapsed": 3,
     "status": "ok",
     "timestamp": 1636967390273,
     "user": {
      "displayName": "espresso double",
      "photoUrl": "https://lh3.googleusercontent.com/a/default-user=s64",
      "userId": "12284788624354514518"
     },
     "user_tz": -480
    },
    "id": "2898c502"
   },
   "outputs": [],
   "source": [
    "callback = [tf.keras.callbacks.LearningRateScheduler(scheduler, verbose=1),\n",
    "            keras.callbacks.ModelCheckpoint(filepath='saved_models/audio_classification2.hdf5', monitor='val_loss', verbose=1,\n",
    "                                            save_best_only=True),\n",
    "            keras.callbacks.LearningRateScheduler(lambda x: 1e-3 * 0.7 ** x),\n",
    "            keras.callbacks.EarlyStopping(monitor='val_loss', mode='min', verbose=1, patience=3)]"
   ]
  },
  {
   "cell_type": "code",
   "execution_count": 30,
   "id": "a8e95a45",
   "metadata": {
    "executionInfo": {
     "elapsed": 3,
     "status": "ok",
     "timestamp": 1636967390273,
     "user": {
      "displayName": "espresso double",
      "photoUrl": "https://lh3.googleusercontent.com/a/default-user=s64",
      "userId": "12284788624354514518"
     },
     "user_tz": -480
    },
    "id": "a8e95a45"
   },
   "outputs": [],
   "source": [
    "EPOCHS = 50"
   ]
  },
  {
   "cell_type": "code",
   "execution_count": 31,
   "id": "47f38e5d",
   "metadata": {
    "colab": {
     "base_uri": "https://localhost:8080/"
    },
    "executionInfo": {
     "elapsed": 965402,
     "status": "ok",
     "timestamp": 1636968355672,
     "user": {
      "displayName": "espresso double",
      "photoUrl": "https://lh3.googleusercontent.com/a/default-user=s64",
      "userId": "12284788624354514518"
     },
     "user_tz": -480
    },
    "id": "47f38e5d",
    "outputId": "23d21a9b-1b9d-4ab9-f991-5a1a055d3072"
   },
   "outputs": [
    {
     "name": "stdout",
     "output_type": "stream",
     "text": [
      "\n",
      "Epoch 00001: LearningRateScheduler setting learning rate to 0.0003000000142492354.\n",
      "Epoch 1/50\n",
      "137/137 [==============================] - ETA: 0s - loss: 0.7966 - accuracy: 0.6431\n",
      "Epoch 00001: val_loss improved from inf to 1.00749, saving model to data/MyDrive/ffbirds-CNN/saved_models/audio_classification2.hdf5\n",
      "137/137 [==============================] - 104s 511ms/step - loss: 0.7966 - accuracy: 0.6431 - val_loss: 1.0075 - val_accuracy: 0.5126 - lr: 0.0010\n",
      "\n",
      "Epoch 00002: LearningRateScheduler setting learning rate to 0.0010000000474974513.\n",
      "Epoch 2/50\n",
      "137/137 [==============================] - ETA: 0s - loss: 0.6357 - accuracy: 0.7029\n",
      "Epoch 00002: val_loss did not improve from 1.00749\n",
      "137/137 [==============================] - 60s 435ms/step - loss: 0.6357 - accuracy: 0.7029 - val_loss: 1.2041 - val_accuracy: 0.5126 - lr: 7.0000e-04\n",
      "\n",
      "Epoch 00003: LearningRateScheduler setting learning rate to 0.000699999975040555.\n",
      "Epoch 3/50\n",
      "137/137 [==============================] - ETA: 0s - loss: 0.5716 - accuracy: 0.7382\n",
      "Epoch 00003: val_loss improved from 1.00749 to 0.63864, saving model to data/MyDrive/ffbirds-CNN/saved_models/audio_classification2.hdf5\n",
      "137/137 [==============================] - 65s 476ms/step - loss: 0.5716 - accuracy: 0.7382 - val_loss: 0.6386 - val_accuracy: 0.6377 - lr: 4.9000e-04\n",
      "\n",
      "Epoch 00004: LearningRateScheduler setting learning rate to 0.0004900000058114529.\n",
      "Epoch 4/50\n",
      "137/137 [==============================] - ETA: 0s - loss: 0.5185 - accuracy: 0.7584\n",
      "Epoch 00004: val_loss improved from 0.63864 to 0.57167, saving model to data/MyDrive/ffbirds-CNN/saved_models/audio_classification2.hdf5\n",
      "137/137 [==============================] - 65s 475ms/step - loss: 0.5185 - accuracy: 0.7584 - val_loss: 0.5717 - val_accuracy: 0.7162 - lr: 3.4300e-04\n",
      "\n",
      "Epoch 00005: LearningRateScheduler setting learning rate to 0.0003429999924264848.\n",
      "Epoch 5/50\n",
      "137/137 [==============================] - ETA: 0s - loss: 0.4883 - accuracy: 0.7822\n",
      "Epoch 00005: val_loss improved from 0.57167 to 0.54063, saving model to data/MyDrive/ffbirds-CNN/saved_models/audio_classification2.hdf5\n",
      "137/137 [==============================] - 65s 476ms/step - loss: 0.4883 - accuracy: 0.7822 - val_loss: 0.5406 - val_accuracy: 0.7311 - lr: 2.4010e-04\n",
      "\n",
      "Epoch 00006: LearningRateScheduler setting learning rate to 0.00024009999469853938.\n",
      "Epoch 6/50\n",
      "137/137 [==============================] - ETA: 0s - loss: 0.4689 - accuracy: 0.7887\n",
      "Epoch 00006: val_loss improved from 0.54063 to 0.46897, saving model to data/MyDrive/ffbirds-CNN/saved_models/audio_classification2.hdf5\n",
      "137/137 [==============================] - 65s 476ms/step - loss: 0.4689 - accuracy: 0.7887 - val_loss: 0.4690 - val_accuracy: 0.7923 - lr: 1.6807e-04\n",
      "\n",
      "Epoch 00007: LearningRateScheduler setting learning rate to 0.00016806999337859452.\n",
      "Epoch 7/50\n",
      "137/137 [==============================] - ETA: 0s - loss: 0.4573 - accuracy: 0.7923\n",
      "Epoch 00007: val_loss did not improve from 0.46897\n",
      "137/137 [==============================] - 60s 434ms/step - loss: 0.4573 - accuracy: 0.7923 - val_loss: 0.4824 - val_accuracy: 0.7862 - lr: 1.1765e-04\n",
      "\n",
      "Epoch 00008: LearningRateScheduler setting learning rate to 0.00011764899682020769.\n",
      "Epoch 8/50\n",
      "137/137 [==============================] - ETA: 0s - loss: 0.4426 - accuracy: 0.8016\n",
      "Epoch 00008: val_loss did not improve from 0.46897\n",
      "137/137 [==============================] - 63s 463ms/step - loss: 0.4426 - accuracy: 0.8016 - val_loss: 0.4753 - val_accuracy: 0.7855 - lr: 8.2354e-05\n",
      "\n",
      "Epoch 00009: LearningRateScheduler setting learning rate to 8.235430141212419e-05.\n",
      "Epoch 9/50\n",
      "137/137 [==============================] - ETA: 0s - loss: 0.4346 - accuracy: 0.8103\n",
      "Epoch 00009: val_loss improved from 0.46897 to 0.43403, saving model to data/MyDrive/ffbirds-CNN/saved_models/audio_classification2.hdf5\n",
      "137/137 [==============================] - 65s 475ms/step - loss: 0.4346 - accuracy: 0.8103 - val_loss: 0.4340 - val_accuracy: 0.8018 - lr: 5.7648e-05\n",
      "\n",
      "Epoch 00010: LearningRateScheduler setting learning rate to 5.7648008805699646e-05.\n",
      "Epoch 10/50\n",
      "137/137 [==============================] - ETA: 0s - loss: 0.4291 - accuracy: 0.8084\n",
      "Epoch 00010: val_loss improved from 0.43403 to 0.41407, saving model to data/MyDrive/ffbirds-CNN/saved_models/audio_classification2.hdf5\n",
      "137/137 [==============================] - 65s 474ms/step - loss: 0.4291 - accuracy: 0.8084 - val_loss: 0.4141 - val_accuracy: 0.8232 - lr: 4.0354e-05\n",
      "\n",
      "Epoch 00011: LearningRateScheduler setting learning rate to tf.Tensor(3.651345e-05, shape=(), dtype=float32).\n",
      "Epoch 11/50\n",
      "137/137 [==============================] - ETA: 0s - loss: 0.4197 - accuracy: 0.8120\n",
      "Epoch 00011: val_loss did not improve from 0.41407\n",
      "137/137 [==============================] - 60s 435ms/step - loss: 0.4197 - accuracy: 0.8120 - val_loss: 0.4172 - val_accuracy: 0.8158 - lr: 2.8248e-05\n",
      "\n",
      "Epoch 00012: LearningRateScheduler setting learning rate to tf.Tensor(2.5559417e-05, shape=(), dtype=float32).\n",
      "Epoch 12/50\n",
      "137/137 [==============================] - ETA: 0s - loss: 0.4160 - accuracy: 0.8176\n",
      "Epoch 00012: val_loss did not improve from 0.41407\n",
      "137/137 [==============================] - 60s 434ms/step - loss: 0.4160 - accuracy: 0.8176 - val_loss: 0.4307 - val_accuracy: 0.8063 - lr: 1.9773e-05\n",
      "\n",
      "Epoch 00013: LearningRateScheduler setting learning rate to tf.Tensor(1.7891593e-05, shape=(), dtype=float32).\n",
      "Epoch 13/50\n",
      "137/137 [==============================] - ETA: 0s - loss: 0.4131 - accuracy: 0.8158\n",
      "Epoch 00013: val_loss did not improve from 0.41407\n",
      "137/137 [==============================] - 60s 434ms/step - loss: 0.4131 - accuracy: 0.8158 - val_loss: 0.4330 - val_accuracy: 0.8100 - lr: 1.3841e-05\n",
      "Epoch 00013: early stopping\n"
     ]
    }
   ],
   "source": [
    "hist = model.fit(gen.flow(X_train, y_train, batch_size=64),\n",
    "                              epochs=EPOCHS,\n",
    "                              steps_per_epoch=X_train.shape[0] // 64,\n",
    "                              validation_data=(X_test, y_test),\n",
    "                              callbacks=callback,\n",
    "                              verbose=1)"
   ]
  },
  {
   "cell_type": "code",
   "execution_count": 32,
   "id": "8d208b3c",
   "metadata": {
    "colab": {
     "base_uri": "https://localhost:8080/",
     "height": 572
    },
    "executionInfo": {
     "elapsed": 1131,
     "status": "ok",
     "timestamp": 1636968356795,
     "user": {
      "displayName": "espresso double",
      "photoUrl": "https://lh3.googleusercontent.com/a/default-user=s64",
      "userId": "12284788624354514518"
     },
     "user_tz": -480
    },
    "id": "8d208b3c",
    "outputId": "b36c6c82-17a2-4ab1-f029-60d954a4fc3f"
   },
   "outputs": [
    {
     "data": {
      "image/png": "[encoded data removed]",
      "text/plain": [
       "<Figure size 432x288 with 1 Axes>"
      ]
     },
     "metadata": {
      "needs_background": "light"
     },
     "output_type": "display_data"
    },
    {
     "data": {
      "image/png": "[encoded data removed]",
      "text/plain": [
       "<Figure size 432x288 with 1 Axes>"
      ]
     },
     "metadata": {
      "needs_background": "light"
     },
     "output_type": "display_data"
    }
   ],
   "source": [
    "#plot graph\n",
    "\n",
    "plt.plot(hist.history['loss'], label='train')\n",
    "plt.plot(hist.history['val_loss'], label='val')\n",
    "plt.title('Loss and Validation Loss')\n",
    "plt.xlabel('epoch')\n",
    "plt.ylabel('Accuracy')\n",
    "plt.legend();\n",
    "plt.show()\n",
    "\n",
    "plt.plot(hist.history['accuracy'], label='train')\n",
    "plt.plot(hist.history['val_accuracy'], label='val')\n",
    "plt.title(' Accuracy and Validation Accuracy ')\n",
    "plt.xlabel('Epoch')\n",
    "plt.ylabel('Accuracy')\n",
    "plt.legend();\n",
    "plt.show()"
   ]
  },
  {
   "cell_type": "code",
   "execution_count": 33,
   "id": "aoNPH2_I7Yuk",
   "metadata": {
    "colab": {
     "base_uri": "https://localhost:8080/"
    },
    "executionInfo": {
     "elapsed": 8794,
     "status": "ok",
     "timestamp": 1636968548346,
     "user": {
      "displayName": "espresso double",
      "photoUrl": "https://lh3.googleusercontent.com/a/default-user=s64",
      "userId": "12284788624354514518"
     },
     "user_tz": -480
    },
    "id": "aoNPH2_I7Yuk",
    "outputId": "ccb4d3ee-bfe6-454c-b4da-bdf6f8c76f14"
   },
   "outputs": [
    {
     "name": "stdout",
     "output_type": "stream",
     "text": [
      "Evaluate on test data\n",
      "46/46 [==============================] - 7s 154ms/step - loss: 0.4330 - accuracy: 0.8100\n",
      "test loss, test acc: [0.43300890922546387, 0.8099932074546814]\n",
      "Generate predictions for 10 samples\n",
      "predictions shape: (10, 2)\n"
     ]
    }
   ],
   "source": [
    "# Evaluate the model on the test data using `evaluate`\n",
    "print(\"Evaluate on test data\")\n",
    "results = model.evaluate(X_test, y_test, batch_size=64)\n",
    "print(\"test loss, test acc:\", results)\n",
    "\n",
    "# Generate predictions (probabilities -- the output of the last layer)\n",
    "# on new data using `predict`\n",
    "print(\"Generate predictions for 10 samples\")\n",
    "predictions = model.predict(X_test[:10])\n",
    "print(\"predictions shape:\", predictions.shape)"
   ]
  }
 ],
 "metadata": {
  "accelerator": "GPU",
  "colab": {
   "name": "CNN model 2.ipynb",
   "provenance": []
  },
  "kernelspec": {
   "display_name": "Python 3",
   "language": "python",
   "name": "python3"
  },
  "language_info": {
   "codemirror_mode": {
    "name": "ipython",
    "version": 3
   },
   "file_extension": ".py",
   "mimetype": "text/x-python",
   "name": "python",
   "nbconvert_exporter": "python",
   "pygments_lexer": "ipython3",
   "version": "3.8.8"
  }
 },
 "nbformat": 4,
 "nbformat_minor": 5
}
